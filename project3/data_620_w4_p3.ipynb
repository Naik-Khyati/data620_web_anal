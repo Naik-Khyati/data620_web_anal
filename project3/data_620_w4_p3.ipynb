{
  "nbformat": 4,
  "nbformat_minor": 0,
  "metadata": {
    "colab": {
      "provenance": []
    },
    "kernelspec": {
      "name": "python3",
      "display_name": "Python 3"
    },
    "language_info": {
      "name": "python"
    }
  },
  "cells": [
    {
      "cell_type": "markdown",
      "source": [
        "Data 620 Web Analytics\n",
        "\n",
        "Summer 2023 - Project 3\n",
        "\n",
        "Khyati Naik\n",
        "\n",
        "Laura Puebla\n",
        "\n",
        "video Link : https://youtu.be/jOszUsz3kRw"
      ],
      "metadata": {
        "id": "uTnsWAkYqr22"
      }
    },
    {
      "cell_type": "markdown",
      "source": [
        "Using any of the three classifiers described in chapter 6 of Natural Language Processing with Python, and any features you can think of, build the best name gender classifier you can. Begin by splitting the Names Corpus into three subsets: 500 words for the test set, 500 words for the dev-test set, and the remaining 6900 words for the training set. Then, starting with the example name gender classifier, make incremental improvements. Use the dev-test set to check your progress. Once you are satisfied with your classifier, check its final performance on the test set. How does the performance on the test set compare to the performance on the dev-test set? Is this what you'd expect?"
      ],
      "metadata": {
        "id": "mebB_hI6qc7Q"
      }
    },
    {
      "cell_type": "code",
      "source": [
        "import random\n",
        "import nltk\n",
        "from nltk.corpus import names\n",
        "from nltk import NaiveBayesClassifier\n",
        "from nltk.classify import accuracy\n",
        "import pandas as pd\n",
        "import matplotlib.pyplot as plt\n",
        "\n",
        "# Set the seed for reproducibility\n",
        "random.seed(30)\n",
        "\n",
        "# Download the necessary corpus\n",
        "nltk.download('names')\n",
        "\n",
        "# Load the Names Corpus\n",
        "male_names = names.words('male.txt')\n",
        "female_names = names.words('female.txt')"
      ],
      "metadata": {
        "colab": {
          "base_uri": "https://localhost:8080/"
        },
        "id": "5IDtdN3Qu8z7",
        "outputId": "35e2aebb-0dbd-4a13-e2b9-b14ec00c65fe"
      },
      "execution_count": 6,
      "outputs": [
        {
          "output_type": "stream",
          "name": "stderr",
          "text": [
            "[nltk_data] Downloading package names to /root/nltk_data...\n",
            "[nltk_data]   Package names is already up-to-date!\n"
          ]
        }
      ]
    },
    {
      "cell_type": "code",
      "source": [
        "# Create a DataFrame for analysis\n",
        "data = pd.DataFrame({'name': male_names + female_names,\n",
        "                     'gender': ['male'] * len(male_names) + ['female'] * len(female_names)})\n",
        "\n",
        "# Data exploration\n",
        "print(\"Number of male names:\", len(male_names))\n",
        "print(\"Number of female names:\", len(female_names))\n",
        "print(\"Total names:\", len(data))\n",
        "print(\"Unique names:\", len(data['name'].unique()))\n",
        "\n",
        "# Plotting the distribution of gender\n",
        "gender_counts = data['gender'].value_counts()\n",
        "plt.bar(gender_counts.index, gender_counts.values)\n",
        "plt.xlabel('Gender')\n",
        "plt.ylabel('Count')\n",
        "plt.title('Distribution of Gender')\n",
        "plt.show()"
      ],
      "metadata": {
        "colab": {
          "base_uri": "https://localhost:8080/",
          "height": 541
        },
        "id": "H-37jekKvBcd",
        "outputId": "b76b14db-4d9d-4899-fb50-24e24169ba97"
      },
      "execution_count": 7,
      "outputs": [
        {
          "output_type": "stream",
          "name": "stdout",
          "text": [
            "Number of male names: 2943\n",
            "Number of female names: 5001\n",
            "Total names: 7944\n",
            "Unique names: 7579\n"
          ]
        },
        {
          "output_type": "display_data",
          "data": {
            "text/plain": [
              "<Figure size 640x480 with 1 Axes>"
            ],
            "image/png": "[encoded data removed]"
          },
          "metadata": {}
        }
      ]
    },
    {
      "cell_type": "code",
      "source": [
        "# Split the Names Corpus into training, dev-test, and test sets\n",
        "names = [(name, 'male') for name in names.words('male.txt')] + [(name, 'female') for name in names.words('female.txt')]\n",
        "random.shuffle(names)\n",
        "test_set = names[:500]\n",
        "devtest_set = names[500:1000]\n",
        "train_set = names[1000:]"
      ],
      "metadata": {
        "id": "9Gb1uGKzvJct"
      },
      "execution_count": 8,
      "outputs": []
    },
    {
      "cell_type": "code",
      "source": [
        "# Define feature extractor function with additional features\n",
        "def name_features(name):\n",
        "    features = {}\n",
        "    features['last_letter'] = name[-1].lower()\n",
        "    features['first_letter'] = name[0].lower()\n",
        "    features['length'] = len(name)\n",
        "    return features"
      ],
      "metadata": {
        "id": "a8Fy8F6tvbai"
      },
      "execution_count": 9,
      "outputs": []
    },
    {
      "cell_type": "code",
      "source": [
        "# Extract features from the training set\n",
        "train_features = [(name_features(name), gender) for (name, gender) in train_set]\n",
        "\n",
        "# Train the Naive Bayes classifier\n",
        "classifier = NaiveBayesClassifier.train(train_features)\n",
        "\n",
        "# Print the features used in the original Naive Bayes classifier\n",
        "print(\"Original Naive Bayes classifier features:\")\n",
        "print(classifier.show_most_informative_features(5))"
      ],
      "metadata": {
        "colab": {
          "base_uri": "https://localhost:8080/"
        },
        "id": "KVWW6d7qvdwD",
        "outputId": "8482c87f-08e7-4959-d60c-6d825ab9d542"
      },
      "execution_count": 10,
      "outputs": [
        {
          "output_type": "stream",
          "name": "stdout",
          "text": [
            "Original Naive Bayes classifier features:\n",
            "Most Informative Features\n",
            "             last_letter = 'a'            female : male   =     34.8 : 1.0\n",
            "             last_letter = 'k'              male : female =     28.1 : 1.0\n",
            "             last_letter = 'f'              male : female =     13.8 : 1.0\n",
            "             last_letter = 'p'              male : female =     12.4 : 1.0\n",
            "             last_letter = 'v'              male : female =     10.4 : 1.0\n",
            "None\n"
          ]
        }
      ]
    },
    {
      "cell_type": "code",
      "source": [
        "# Evaluate accuracy on the dev-test set\n",
        "devtest_features = [(name_features(name), gender) for (name, gender) in devtest_set]\n",
        "devtest_labels = [gender for (name, gender) in devtest_set]\n",
        "devtest_accuracy = accuracy(classifier, devtest_features)\n",
        "print(\"Original Naive Bayes classifier accuracy:\", devtest_accuracy)\n",
        "\n",
        "# Evaluate accuracy on the test set\n",
        "test_features = [(name_features(name), gender) for (name, gender) in test_set]\n",
        "test_labels = [gender for (name, gender) in test_set]\n",
        "\n",
        "nb_test_accuracy = accuracy(classifier, test_features)\n",
        "print(\"Original Naive Bayes classifier test accuracy:\", nb_test_accuracy)"
      ],
      "metadata": {
        "colab": {
          "base_uri": "https://localhost:8080/"
        },
        "id": "37JPLsO-vrNf",
        "outputId": "39a592b3-97c8-4e6c-9b7f-11e7e683f112"
      },
      "execution_count": 11,
      "outputs": [
        {
          "output_type": "stream",
          "name": "stdout",
          "text": [
            "Original Naive Bayes classifier accuracy: 0.764\n",
            "Original Naive Bayes classifier test accuracy: 0.812\n"
          ]
        }
      ]
    },
    {
      "cell_type": "code",
      "source": [
        "# Enhancements: Add more features to the feature extractor function\n",
        "def enhanced_name_features(name):\n",
        "    features = {}\n",
        "    features['last_letter'] = name[-1].lower()\n",
        "    features['first_letter'] = name[0].lower()\n",
        "    features['length'] = len(name)\n",
        "    features['last_two_letters'] = name[-2:].lower()\n",
        "    features['first_two_letters'] = name[:2].lower()\n",
        "    features['has_vowel'] = any(letter in 'aeiou' for letter in name.lower())\n",
        "    features['num_vowels'] = sum(letter in 'aeiou' for letter in name.lower())\n",
        "    features['double_letters'] = any(name[i] == name[i+1] for i in range(len(name)-1))\n",
        "    return features"
      ],
      "metadata": {
        "id": "bfUs1XrQvrZ2"
      },
      "execution_count": 12,
      "outputs": []
    },
    {
      "cell_type": "code",
      "source": [
        "# Extract enhanced features from the training set\n",
        "enhanced_train_features = [(enhanced_name_features(name), gender) for (name, gender) in train_set]\n",
        "\n",
        "# Train the Naive Bayes classifier with enhanced features\n",
        "enhanced_classifier = NaiveBayesClassifier.train(enhanced_train_features)"
      ],
      "metadata": {
        "id": "0_b_erzgv4uD"
      },
      "execution_count": 13,
      "outputs": []
    },
    {
      "cell_type": "code",
      "source": [
        "# Print the features used in the enhanced Naive Bayes classifier\n",
        "print(\"Enhanced Naive Bayes classifier features:\")\n",
        "print(enhanced_classifier.show_most_informative_features(5))"
      ],
      "metadata": {
        "colab": {
          "base_uri": "https://localhost:8080/"
        },
        "id": "I6YYnrqwv45p",
        "outputId": "2f634a3a-de6d-4f2b-e959-187169d2368e"
      },
      "execution_count": 14,
      "outputs": [
        {
          "output_type": "stream",
          "name": "stdout",
          "text": [
            "Enhanced Naive Bayes classifier features:\n",
            "Most Informative Features\n",
            "        last_two_letters = 'na'           female : male   =     96.6 : 1.0\n",
            "        last_two_letters = 'la'           female : male   =     69.7 : 1.0\n",
            "        last_two_letters = 'rd'             male : female =     41.2 : 1.0\n",
            "        last_two_letters = 'ia'           female : male   =     37.8 : 1.0\n",
            "        last_two_letters = 'us'             male : female =     35.3 : 1.0\n",
            "None\n"
          ]
        }
      ]
    },
    {
      "cell_type": "code",
      "source": [
        "# Evaluate accuracy on the dev-test set with enhanced features\n",
        "enhanced_devtest_features = [(enhanced_name_features(name), gender) for (name, gender) in devtest_set]\n",
        "enhanced_devtest_accuracy = accuracy(enhanced_classifier, enhanced_devtest_features)\n",
        "print(\"Enhanced Naive Bayes classifier accuracy:\", enhanced_devtest_accuracy)\n",
        "\n",
        "\n",
        "enhanced_test_features = [(enhanced_name_features(name), gender) for (name, gender) in test_set]\n",
        "enhanced_test_accuracy = accuracy(enhanced_classifier, enhanced_test_features)\n",
        "print(\"Enhanced Naive Bayes classifier test accuracy:\", enhanced_test_accuracy)"
      ],
      "metadata": {
        "colab": {
          "base_uri": "https://localhost:8080/"
        },
        "id": "FZ-amZZawDmp",
        "outputId": "e5421da2-b1a0-466f-c078-61d367302d60"
      },
      "execution_count": 15,
      "outputs": [
        {
          "output_type": "stream",
          "name": "stdout",
          "text": [
            "Enhanced Naive Bayes classifier accuracy: 0.8\n",
            "Enhanced Naive Bayes classifier test accuracy: 0.826\n"
          ]
        }
      ]
    }
  ]
}